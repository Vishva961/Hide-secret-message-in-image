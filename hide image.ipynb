{
 "cells": [
  {
   "cell_type": "code",
   "execution_count": 4,
   "id": "13a1613b-fda1-43fa-bebc-69d631c09df2",
   "metadata": {},
   "outputs": [],
   "source": [
    "from stegano import lsb"
   ]
  },
  {
   "cell_type": "code",
   "execution_count": 5,
   "id": "edebe481-de07-4e0f-9c4b-ab0600dc6f63",
   "metadata": {},
   "outputs": [],
   "source": [
    "secret=lsb.hide('image.png','Hi im vishva')"
   ]
  },
  {
   "cell_type": "code",
   "execution_count": 10,
   "id": "4955a180-eecd-4bc3-85ee-d79eddf7ab69",
   "metadata": {},
   "outputs": [],
   "source": [
    "secret.save('secret_img.png')"
   ]
  },
  {
   "cell_type": "code",
   "execution_count": null,
   "id": "b0df3b81-0321-42c3-900c-b13a97e29b14",
   "metadata": {},
   "outputs": [],
   "source": []
  },
  {
   "cell_type": "code",
   "execution_count": 12,
   "id": "46e00f06-9c09-49a4-8229-3053bf6d7f8c",
   "metadata": {},
   "outputs": [
    {
     "name": "stdout",
     "output_type": "stream",
     "text": [
      "Hi im vishva\n"
     ]
    }
   ],
   "source": [
    "print(lsb.reveal('secret_img.png'))"
   ]
  },
  {
   "cell_type": "code",
   "execution_count": null,
   "id": "f0112db3-0c61-49c6-ab89-5618edc07ee6",
   "metadata": {},
   "outputs": [],
   "source": []
  },
  {
   "cell_type": "code",
   "execution_count": null,
   "id": "2be6330d-d072-4101-ae7a-16cbe1718c0a",
   "metadata": {},
   "outputs": [],
   "source": []
  }
 ],
 "metadata": {
  "kernelspec": {
   "display_name": "Python 3 (ipykernel)",
   "language": "python",
   "name": "python3"
  },
  "language_info": {
   "codemirror_mode": {
    "name": "ipython",
    "version": 3
   },
   "file_extension": ".py",
   "mimetype": "text/x-python",
   "name": "python",
   "nbconvert_exporter": "python",
   "pygments_lexer": "ipython3",
   "version": "3.11.9"
  }
 },
 "nbformat": 4,
 "nbformat_minor": 5
}
